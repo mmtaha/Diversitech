{
  "nbformat": 4,
  "nbformat_minor": 0,
  "metadata": {
    "colab": {
      "provenance": [],
      "include_colab_link": true
    },
    "kernelspec": {
      "name": "python3",
      "display_name": "Python 3"
    },
    "language_info": {
      "name": "python"
    }
  },
  "cells": [
    {
      "cell_type": "markdown",
      "metadata": {
        "id": "view-in-github",
        "colab_type": "text"
      },
      "source": [
        "<a href=\"https://colab.research.google.com/github/mmtaha/Diversitech/blob/main/C%C3%B3pia_de_Diversitech.ipynb\" target=\"_parent\"><img src=\"https://colab.research.google.com/assets/colab-badge.svg\" alt=\"Open In Colab\"/></a>"
      ]
    },
    {
      "cell_type": "markdown",
      "metadata": {
        "id": "yHZ_CbXOjdxp"
      },
      "source": [
        "- [x] Overview de ferramenta\n",
        "  - Ferramentas\n",
        "    - [x] colab\n",
        "    - [ ] pycharm\n",
        "    - [ ] vscode\n",
        "    - [ ] IDE Python\n",
        "    - [ ] Anaconda\n",
        "- Lógica de Programação\n",
        "  - [x] Lógica\n",
        "  - [x] Programação\n",
        "  - [x] Variáveis\n",
        "  - [x] Operações\n",
        "  - [x] Estrutura de Decisão\n",
        "  - [x] Estrutura de Repetição\n",
        "- Otimização código (mais rápido)\n",
        "  - como que eu faço para resolver o mesmo problema de forma mais rápida?\n",
        "  - tópico avançado\n",
        "  - Notação Big O (entrevista de internacional)\n",
        "\n",
        "\n",
        "Lógica: **maneira específica de raciocinar**\n",
        "\n",
        "Programação:\n",
        "- forma como nos comunicamos com os computadores.\n",
        "- informa à máquina quais ações executar.\n",
        "- Criar um código é como definir um conjunto de instruções."
      ]
    },
    {
      "cell_type": "markdown",
      "metadata": {
        "id": "qysHxUjEpy77"
      },
      "source": [
        "Linguagem de programação: Python, Portugol\n",
        "- regras que você deve utilizar para se comunicar com o computador"
      ]
    },
    {
      "cell_type": "markdown",
      "metadata": {
        "id": "MVnZFAlQpKW_"
      },
      "source": [
        "# Variáveis\n",
        "jan - 100  \n",
        "fev - 200  \n",
        "mar - 150  "
      ]
    },
    {
      "cell_type": "markdown",
      "metadata": {
        "id": "eKwZoyA6rR8p"
      },
      "source": [
        "Vou salvar os 100 reais que eu gastei em janeiro dentro de uma variável chamada \"jan\""
      ]
    },
    {
      "cell_type": "code",
      "metadata": {
        "id": "th3XN-aPrBqR"
      },
      "source": [
        "jan = 100\n",
        "fev = 200\n",
        "mar = 150"
      ],
      "execution_count": 2,
      "outputs": []
    },
    {
      "cell_type": "markdown",
      "metadata": {
        "id": "NwO0n4xS40WU"
      },
      "source": [
        "# Operações"
      ]
    },
    {
      "cell_type": "code",
      "metadata": {
        "colab": {
          "base_uri": "https://localhost:8080/"
        },
        "id": "OKc1xakxjTdc",
        "outputId": "5237a7db-5f05-4f50-a155-c24cb264babf"
      },
      "source": [
        "100 + 200 + 150"
      ],
      "execution_count": 3,
      "outputs": [
        {
          "output_type": "execute_result",
          "data": {
            "text/plain": [
              "450"
            ]
          },
          "metadata": {},
          "execution_count": 3
        }
      ]
    },
    {
      "cell_type": "code",
      "metadata": {
        "colab": {
          "base_uri": "https://localhost:8080/"
        },
        "id": "Dqx8iftspdis",
        "outputId": "b45906db-52e3-4bb8-8a46-757818a77859"
      },
      "source": [
        "100 - 50"
      ],
      "execution_count": 4,
      "outputs": [
        {
          "output_type": "execute_result",
          "data": {
            "text/plain": [
              "50"
            ]
          },
          "metadata": {},
          "execution_count": 4
        }
      ]
    },
    {
      "cell_type": "code",
      "metadata": {
        "colab": {
          "base_uri": "https://localhost:8080/"
        },
        "id": "8QDvwFJYq1O0",
        "outputId": "13dfb178-dbc3-4655-9b07-d65ee9be9a64"
      },
      "source": [
        "10 * 2"
      ],
      "execution_count": 5,
      "outputs": [
        {
          "output_type": "execute_result",
          "data": {
            "text/plain": [
              "20"
            ]
          },
          "metadata": {},
          "execution_count": 5
        }
      ]
    },
    {
      "cell_type": "code",
      "metadata": {
        "colab": {
          "base_uri": "https://localhost:8080/"
        },
        "id": "lzpx1d57q3Nc",
        "outputId": "91ae9cb8-bcfb-4827-b87c-885ef7f968f5"
      },
      "source": [
        "50/5"
      ],
      "execution_count": 6,
      "outputs": [
        {
          "output_type": "execute_result",
          "data": {
            "text/plain": [
              "10.0"
            ]
          },
          "metadata": {},
          "execution_count": 6
        }
      ]
    },
    {
      "cell_type": "code",
      "metadata": {
        "colab": {
          "base_uri": "https://localhost:8080/"
        },
        "id": "qe0xQ18Bq69P",
        "outputId": "de5fc9af-d43a-41c3-aee9-53e2351d5dd1"
      },
      "source": [
        "100 > 50"
      ],
      "execution_count": 7,
      "outputs": [
        {
          "output_type": "execute_result",
          "data": {
            "text/plain": [
              "True"
            ]
          },
          "metadata": {},
          "execution_count": 7
        }
      ]
    },
    {
      "cell_type": "code",
      "metadata": {
        "colab": {
          "base_uri": "https://localhost:8080/"
        },
        "id": "RmTVSqTGq_ye",
        "outputId": "cbc354fd-158c-4b9f-b82c-b5b60b649981"
      },
      "source": [
        "50 > 100"
      ],
      "execution_count": 8,
      "outputs": [
        {
          "output_type": "execute_result",
          "data": {
            "text/plain": [
              "False"
            ]
          },
          "metadata": {},
          "execution_count": 8
        }
      ]
    },
    {
      "cell_type": "markdown",
      "metadata": {
        "id": "-YpRA9bL44iT"
      },
      "source": [
        "# Condições"
      ]
    },
    {
      "cell_type": "code",
      "metadata": {
        "colab": {
          "base_uri": "https://localhost:8080/"
        },
        "id": "6RZUB71MrKFc",
        "outputId": "f5bfa797-47e4-41a5-a4a1-d1ecd6011764"
      },
      "source": [
        "jan > fev"
      ],
      "execution_count": 9,
      "outputs": [
        {
          "output_type": "execute_result",
          "data": {
            "text/plain": [
              "False"
            ]
          },
          "metadata": {},
          "execution_count": 9
        }
      ]
    },
    {
      "cell_type": "code",
      "metadata": {
        "colab": {
          "base_uri": "https://localhost:8080/"
        },
        "id": "ny6MFlBhrOB0",
        "outputId": "06e1333e-a1df-4443-c5d1-0772f67f6aa1"
      },
      "source": [
        "fev > mar"
      ],
      "execution_count": 10,
      "outputs": [
        {
          "output_type": "execute_result",
          "data": {
            "text/plain": [
              "True"
            ]
          },
          "metadata": {},
          "execution_count": 10
        }
      ]
    },
    {
      "cell_type": "code",
      "metadata": {
        "colab": {
          "base_uri": "https://localhost:8080/"
        },
        "id": "b16SBGL0ri_3",
        "outputId": "de63df1f-257f-47e8-8326-2d130cb2b332"
      },
      "source": [
        "fev == jan"
      ],
      "execution_count": 11,
      "outputs": [
        {
          "output_type": "execute_result",
          "data": {
            "text/plain": [
              "False"
            ]
          },
          "metadata": {},
          "execution_count": 11
        }
      ]
    },
    {
      "cell_type": "code",
      "metadata": {
        "colab": {
          "base_uri": "https://localhost:8080/"
        },
        "id": "cZQcix7lrsTj",
        "outputId": "59e00975-9532-4e3e-ea40-0299465bd32e"
      },
      "source": [
        "fev < mar"
      ],
      "execution_count": 12,
      "outputs": [
        {
          "output_type": "execute_result",
          "data": {
            "text/plain": [
              "False"
            ]
          },
          "metadata": {},
          "execution_count": 12
        }
      ]
    },
    {
      "cell_type": "code",
      "metadata": {
        "colab": {
          "base_uri": "https://localhost:8080/"
        },
        "id": "5l_dw3LgruO4",
        "outputId": "ef842662-0c45-4c5b-ae46-11d09eafc465"
      },
      "source": [
        "fev <= 120"
      ],
      "execution_count": 13,
      "outputs": [
        {
          "output_type": "execute_result",
          "data": {
            "text/plain": [
              "False"
            ]
          },
          "metadata": {},
          "execution_count": 13
        }
      ]
    },
    {
      "cell_type": "code",
      "metadata": {
        "colab": {
          "base_uri": "https://localhost:8080/"
        },
        "id": "KabcYuuFryls",
        "outputId": "a8b1ab2b-c297-4ada-eb30-c02eff82aeeb"
      },
      "source": [
        "fev"
      ],
      "execution_count": 14,
      "outputs": [
        {
          "output_type": "execute_result",
          "data": {
            "text/plain": [
              "200"
            ]
          },
          "metadata": {},
          "execution_count": 14
        }
      ]
    },
    {
      "cell_type": "markdown",
      "metadata": {
        "id": "3xX4m9mpsMSP"
      },
      "source": [
        "se fev <= 120, faço nada. se fev > 120, economizar.\n",
        "\n",
        "```\n",
        "se fev <= 120, (condição)\n",
        "  faço nada.  (ação)\n",
        "\n",
        "se fev > 120, (condição)\n",
        "  economizar. (ação)\n",
        "\n",
        "se fev < 150, faço nada, senão se fev = 150, tomar cuidado, senão economizar (fev > 120).\n",
        "```"
      ]
    },
    {
      "cell_type": "code",
      "metadata": {
        "colab": {
          "base_uri": "https://localhost:8080/",
          "height": 36
        },
        "id": "gkkTe87ntfXo",
        "outputId": "b9701ef5-7884-43ee-bafa-11a98c3e207a"
      },
      "source": [
        "\"faço nada\""
      ],
      "execution_count": 15,
      "outputs": [
        {
          "output_type": "execute_result",
          "data": {
            "text/plain": [
              "'faço nada'"
            ],
            "application/vnd.google.colaboratory.intrinsic+json": {
              "type": "string"
            }
          },
          "metadata": {},
          "execution_count": 15
        }
      ]
    },
    {
      "cell_type": "code",
      "metadata": {
        "colab": {
          "base_uri": "https://localhost:8080/"
        },
        "id": "bc0yiCmguU_Q",
        "outputId": "e4dfcaff-4dee-475e-e59b-d91edfc7a845"
      },
      "source": [
        "fev <= 120"
      ],
      "execution_count": 16,
      "outputs": [
        {
          "output_type": "execute_result",
          "data": {
            "text/plain": [
              "False"
            ]
          },
          "metadata": {},
          "execution_count": 16
        }
      ]
    },
    {
      "cell_type": "code",
      "metadata": {
        "id": "MSqJmwWcr08Q"
      },
      "source": [
        "if fev <= 120: #Falso\n",
        "  print(\"faço nada\")"
      ],
      "execution_count": 17,
      "outputs": []
    },
    {
      "cell_type": "code",
      "metadata": {
        "colab": {
          "base_uri": "https://localhost:8080/"
        },
        "id": "QuUaq4yGuTEH",
        "outputId": "e42c4c9b-3c0d-4a28-8c69-13bcdb578f01"
      },
      "source": [
        "if fev > 120: #Verdadeiro\n",
        "  print(\"economizar\")"
      ],
      "execution_count": 18,
      "outputs": [
        {
          "output_type": "stream",
          "name": "stdout",
          "text": [
            "economizar\n"
          ]
        }
      ]
    },
    {
      "cell_type": "markdown",
      "metadata": {
        "id": "0A-seFEjxGXz"
      },
      "source": [
        "programa: gerenciador de gastos  \n",
        "limite: limite de gastos mensal que eu estipulei  \n",
        "mes: mês que eu quero analisar o gasto  \n",
        "resulta: qual a ação que eu devo tomar baseado no meu gasto  "
      ]
    },
    {
      "cell_type": "code",
      "metadata": {
        "id": "nDEGSURIuajz"
      },
      "source": [
        "gerenciador_de_dados.py\n",
        "limite = 150\n",
        "mes = mar\n",
        "\n",
        "\n",
        "print(mes)\n",
        "\n",
        "if mes < limite:\n",
        "  print(\"faço nada\")\n",
        "elif mes == limite:\n",
        "  print(\"tomar cuidado\")\n",
        "else:\n",
        "  print(\"economizar\")"
      ],
      "execution_count": null,
      "outputs": []
    },
    {
      "cell_type": "markdown",
      "metadata": {
        "id": "0e3S8T5q4uNU"
      },
      "source": [
        "# Repetição"
      ]
    },
    {
      "cell_type": "markdown",
      "metadata": {
        "id": "Z6Pteh0Z5WsU"
      },
      "source": [
        "para...faça...\n",
        "\n",
        "enquanto\n",
        "\n",
        "enquanto...faça...\n",
        "\n",
        "for -> faça\n",
        "\n",
        "while -> enquanto\n",
        "\n",
        "do while"
      ]
    },
    {
      "cell_type": "markdown",
      "metadata": {
        "id": "sYI04rnR5ZML"
      },
      "source": [
        "```\n",
        "enquanto não for sábado,\n",
        "  (faça) trabalhe.\n",
        "```"
      ]
    },
    {
      "cell_type": "markdown",
      "metadata": {
        "id": "1UolNBiN58yw"
      },
      "source": [
        "```\n",
        "1. segunda\n",
        "2. terça\n",
        "3. quarta\n",
        "4. quinta\n",
        "5. sexta\n",
        "6. sábado\n",
        "7. domingo\n",
        "```"
      ]
    },
    {
      "cell_type": "code",
      "metadata": {
        "colab": {
          "base_uri": "https://localhost:8080/"
        },
        "id": "fWN6CSiE4R-4",
        "outputId": "cb001433-abad-4399-d6c3-7a2a1d3f3ca8"
      },
      "source": [
        "#para (dia=1;dia!=6;dia=dia+1) {}\n",
        "dia = 1\n",
        "\n",
        "while dia != 6: #Verdadeiro\n",
        "  print(dia)\n",
        "  print('Trabalhe')\n",
        "  dia = dia + 1 #simular a virada do dia\n",
        "#Falso\n",
        "print(dia)\n",
        "print('Sabadou!')\n",
        "#encerra"
      ],
      "execution_count": 20,
      "outputs": [
        {
          "output_type": "stream",
          "name": "stdout",
          "text": [
            "1\n",
            "Trabalhe\n",
            "2\n",
            "Trabalhe\n",
            "3\n",
            "Trabalhe\n",
            "4\n",
            "Trabalhe\n",
            "5\n",
            "Trabalhe\n",
            "6\n",
            "Sabadou!\n"
          ]
        }
      ]
    },
    {
      "cell_type": "markdown",
      "metadata": {
        "id": "SD0ANyRO7dkh"
      },
      "source": [
        "```\n",
        "tabuada do 5\n",
        "para cada número começando em 0 até 9,\n",
        "  faça 5 * número.\n",
        "```"
      ]
    },
    {
      "cell_type": "code",
      "metadata": {
        "colab": {
          "base_uri": "https://localhost:8080/"
        },
        "id": "J5jpY4DT8cxk",
        "outputId": "96ce9fd3-5407-46d6-d0da-8c1f6cf6d812"
      },
      "source": [
        "list(range(0, 10))"
      ],
      "execution_count": 21,
      "outputs": [
        {
          "output_type": "execute_result",
          "data": {
            "text/plain": [
              "[0, 1, 2, 3, 4, 5, 6, 7, 8, 9]"
            ]
          },
          "metadata": {},
          "execution_count": 21
        }
      ]
    },
    {
      "cell_type": "code",
      "metadata": {
        "id": "-kPcf-yX8sBe"
      },
      "source": [
        "# para (contador=0; contador<=10; contador = contador+1)\n",
        "contador = 0\n",
        "while contador <= 10:\n",
        "  contador = contador+1"
      ],
      "execution_count": 23,
      "outputs": []
    },
    {
      "cell_type": "code",
      "metadata": {
        "colab": {
          "base_uri": "https://localhost:8080/"
        },
        "id": "9uNABTtK4Rwn",
        "outputId": "7d54fbd7-05dd-487b-c122-5beb60aa54a8"
      },
      "source": [
        "tabuada = 5\n",
        "for numero in range(0, 10):#sim\n",
        "  print(tabuada, \"x\", numero)\n",
        "  print(tabuada*numero)\n",
        "#ainda tem?\n",
        "#não\n",
        "print('acabou')"
      ],
      "execution_count": 24,
      "outputs": [
        {
          "output_type": "stream",
          "name": "stdout",
          "text": [
            "5 x 0\n",
            "0\n",
            "5 x 1\n",
            "5\n",
            "5 x 2\n",
            "10\n",
            "5 x 3\n",
            "15\n",
            "5 x 4\n",
            "20\n",
            "5 x 5\n",
            "25\n",
            "5 x 6\n",
            "30\n",
            "5 x 7\n",
            "35\n",
            "5 x 8\n",
            "40\n",
            "5 x 9\n",
            "45\n",
            "acabou\n"
          ]
        }
      ]
    },
    {
      "cell_type": "code",
      "metadata": {
        "id": "toNFYa2d9Lf_",
        "colab": {
          "base_uri": "https://localhost:8080/"
        },
        "outputId": "e08fb7e3-75be-47dc-9172-53d069889885"
      },
      "source": [
        "gastos = {'janeiro': 100, 'fevereiro': 200}\n",
        "\n",
        "def analisar_gasto(mes, gasto):\n",
        "    if gasto < 150:\n",
        "        print(f\"{mes}: fazer nada\")\n",
        "    elif gasto == 150:\n",
        "        print(f\"{mes}: tomar cuidado\")\n",
        "    else:\n",
        "        print(f\"{mes}: economizar\")\n",
        "\n",
        "analisar_gasto('janeiro', 100)\n",
        "analisar_gasto('fevereiro', 200)"
      ],
      "execution_count": 26,
      "outputs": [
        {
          "output_type": "stream",
          "name": "stdout",
          "text": [
            "janeiro: fazer nada\n",
            "fevereiro: economizar\n"
          ]
        }
      ]
    },
    {
      "cell_type": "code",
      "source": [
        "meses = ['janeiro', 'fevereiro', 'março']\n",
        "gastos = [100, 200, 150]\n",
        "\n",
        "for i in range(3):\n",
        "    print(f\"{meses[i]}: {gastos[i]}\")\n",
        "    if gastos[i] > 150:\n",
        "        print(\"economizar\")"
      ],
      "metadata": {
        "colab": {
          "base_uri": "https://localhost:8080/"
        },
        "id": "NKzeEM6JKIt6",
        "outputId": "f146e6cb-46f1-49f5-c6af-c7a6ad39271d"
      },
      "execution_count": 27,
      "outputs": [
        {
          "output_type": "stream",
          "name": "stdout",
          "text": [
            "janeiro: 100\n",
            "fevereiro: 200\n",
            "economizar\n",
            "março: 150\n"
          ]
        }
      ]
    },
    {
      "cell_type": "code",
      "source": [
        "gastos = {'jan': 100, 'fev': 200, 'mar': 150}\n",
        "\n",
        "for mes, valor in gastos.items():\n",
        "    print(mes, valor)\n",
        "    if valor > 150:\n",
        "        print(\"economizar\")"
      ],
      "metadata": {
        "colab": {
          "base_uri": "https://localhost:8080/"
        },
        "id": "vT4dH9RkKPS9",
        "outputId": "fbcbd651-75dd-4354-b139-c4dc2f60cdf8"
      },
      "execution_count": 28,
      "outputs": [
        {
          "output_type": "stream",
          "name": "stdout",
          "text": [
            "jan 100\n",
            "fev 200\n",
            "economizar\n",
            "mar 150\n"
          ]
        }
      ]
    },
    {
      "cell_type": "code",
      "source": [
        "def verificar_gastos(gastos_dict):\n",
        "    for mes, valor in gastos_dict.items():\n",
        "        if valor > 150:\n",
        "            print(f\"{mes}: economizar\")\n",
        "\n",
        "gastos = {'jan': 100, 'fev': 200, 'mar': 150}\n",
        "verificar_gastos(gastos)"
      ],
      "metadata": {
        "colab": {
          "base_uri": "https://localhost:8080/"
        },
        "id": "30LwKzZ_KVol",
        "outputId": "87fde619-8617-45cf-b5f3-cba4d0a2fdff"
      },
      "execution_count": 29,
      "outputs": [
        {
          "output_type": "stream",
          "name": "stdout",
          "text": [
            "fev: economizar\n"
          ]
        }
      ]
    },
    {
      "cell_type": "code",
      "source": [
        "gastos = [100, 200, 150]\n",
        "total = 0\n",
        "\n",
        "for valor in gastos:\n",
        "    total = total + valor\n",
        "\n",
        "print(\"Total:\", total)"
      ],
      "metadata": {
        "colab": {
          "base_uri": "https://localhost:8080/"
        },
        "id": "3_Ykq2BUKxa4",
        "outputId": "ce5b119f-bd8d-40da-fd55-759d8df7b3fc"
      },
      "execution_count": 30,
      "outputs": [
        {
          "output_type": "stream",
          "name": "stdout",
          "text": [
            "Total: 450\n"
          ]
        }
      ]
    },
    {
      "cell_type": "code",
      "source": [
        "gastos = [100, 200, 150]\n",
        "soma = 0\n",
        "\n",
        "for valor in gastos:\n",
        "    soma = soma + valor\n",
        "\n",
        "media = soma / len(gastos)\n",
        "print(\"Média:\", media)"
      ],
      "metadata": {
        "colab": {
          "base_uri": "https://localhost:8080/"
        },
        "id": "04C6x1hAK1Ec",
        "outputId": "3ce73e42-85cc-44a9-cd9c-38b06ef1e638"
      },
      "execution_count": 31,
      "outputs": [
        {
          "output_type": "stream",
          "name": "stdout",
          "text": [
            "Média: 150.0\n"
          ]
        }
      ]
    },
    {
      "cell_type": "code",
      "source": [
        "gastos = [100, 200, 150]\n",
        "maior = 0\n",
        "\n",
        "for valor in gastos:\n",
        "    if valor > maior:\n",
        "        maior = valor\n",
        "\n",
        "print(\"Maior gasto:\", maior)"
      ],
      "metadata": {
        "colab": {
          "base_uri": "https://localhost:8080/"
        },
        "id": "zBT7wwrEK5lS",
        "outputId": "16567790-7b2a-4ca5-aa91-59c7b2d91e96"
      },
      "execution_count": 32,
      "outputs": [
        {
          "output_type": "stream",
          "name": "stdout",
          "text": [
            "Maior gasto: 200\n"
          ]
        }
      ]
    }
  ]
}