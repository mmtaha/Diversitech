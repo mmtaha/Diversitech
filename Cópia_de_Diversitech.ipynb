{
  "nbformat": 4,
  "nbformat_minor": 0,
  "metadata": {
    "colab": {
      "name": "Cópia de Diversitech.ipynb",
      "provenance": [],
      "include_colab_link": true
    },
    "kernelspec": {
      "name": "python3",
      "display_name": "Python 3"
    },
    "language_info": {
      "name": "python"
    }
  },
  "cells": [
    {
      "cell_type": "markdown",
      "metadata": {
        "id": "view-in-github",
        "colab_type": "text"
      },
      "source": [
        "<a href=\"https://colab.research.google.com/github/mmtaha/Diversitech/blob/main/C%C3%B3pia_de_Diversitech.ipynb\" target=\"_parent\"><img src=\"https://colab.research.google.com/assets/colab-badge.svg\" alt=\"Open In Colab\"/></a>"
      ]
    },
    {
      "cell_type": "markdown",
      "metadata": {
        "id": "yHZ_CbXOjdxp"
      },
      "source": [
        "- [x] Overview de ferramenta\n",
        "  - Ferramentas\n",
        "    - [x] colab\n",
        "    - [ ] pycharm\n",
        "    - [ ] vscode\n",
        "    - [ ] IDE Python\n",
        "    - [ ] Anaconda\n",
        "- Lógica de Programação\n",
        "  - [x] Lógica\n",
        "  - [x] Programação\n",
        "  - [x] Variáveis\n",
        "  - [x] Operações\n",
        "  - [x] Estrutura de Decisão\n",
        "  - [x] Estrutura de Repetição\n",
        "- Otimização código (mais rápido)\n",
        "  - como que eu faço para resolver o mesmo problema de forma mais rápida?\n",
        "  - tópico avançado\n",
        "  - Notação Big O (entrevista de internacional)\n",
        "\n",
        "\n",
        "Lógica: **maneira específica de raciocinar**\n",
        "\n",
        "Programação:\n",
        "- forma como nos comunicamos com os computadores.\n",
        "- informa à máquina quais ações executar.\n",
        "- Criar um código é como definir um conjunto de instruções."
      ]
    },
    {
      "cell_type": "markdown",
      "metadata": {
        "id": "qysHxUjEpy77"
      },
      "source": [
        "Linguagem de programação: Python, Portugol\n",
        "- regras que você deve utilizar para se comunicar com o computador"
      ]
    },
    {
      "cell_type": "markdown",
      "metadata": {
        "id": "MVnZFAlQpKW_"
      },
      "source": [
        "# Variáveis\n",
        "jan - 100  \n",
        "fev - 200  \n",
        "mar - 150  "
      ]
    },
    {
      "cell_type": "markdown",
      "metadata": {
        "id": "eKwZoyA6rR8p"
      },
      "source": [
        "Vou salvar os 100 reais que eu gastei em janeiro dentro de uma variável chamada \"jan\""
      ]
    },
    {
      "cell_type": "code",
      "metadata": {
        "id": "th3XN-aPrBqR"
      },
      "source": [
        "jan = 100\n",
        "fev = 200\n",
        "mar = 150"
      ],
      "execution_count": null,
      "outputs": []
    },
    {
      "cell_type": "markdown",
      "metadata": {
        "id": "NwO0n4xS40WU"
      },
      "source": [
        "# Operações"
      ]
    },
    {
      "cell_type": "code",
      "metadata": {
        "colab": {
          "base_uri": "https://localhost:8080/"
        },
        "id": "OKc1xakxjTdc",
        "outputId": "db574fd5-f171-496a-d23a-87af6c61840e"
      },
      "source": [
        "100 + 200 + 150"
      ],
      "execution_count": null,
      "outputs": [
        {
          "output_type": "execute_result",
          "data": {
            "text/plain": [
              "450"
            ]
          },
          "metadata": {},
          "execution_count": 3
        }
      ]
    },
    {
      "cell_type": "code",
      "metadata": {
        "colab": {
          "base_uri": "https://localhost:8080/"
        },
        "id": "Dqx8iftspdis",
        "outputId": "7e71856d-b1c3-4b52-e6fc-d675e2927aba"
      },
      "source": [
        "100 - 50"
      ],
      "execution_count": null,
      "outputs": [
        {
          "output_type": "execute_result",
          "data": {
            "text/plain": [
              "50"
            ]
          },
          "metadata": {},
          "execution_count": 4
        }
      ]
    },
    {
      "cell_type": "code",
      "metadata": {
        "colab": {
          "base_uri": "https://localhost:8080/"
        },
        "id": "8QDvwFJYq1O0",
        "outputId": "92910038-8fa9-47b5-d702-2963599c365c"
      },
      "source": [
        "10 * 2"
      ],
      "execution_count": null,
      "outputs": [
        {
          "output_type": "execute_result",
          "data": {
            "text/plain": [
              "20"
            ]
          },
          "metadata": {},
          "execution_count": 5
        }
      ]
    },
    {
      "cell_type": "code",
      "metadata": {
        "colab": {
          "base_uri": "https://localhost:8080/"
        },
        "id": "lzpx1d57q3Nc",
        "outputId": "13109ac1-2d1e-4948-c76e-a4ea62b08939"
      },
      "source": [
        "50/5"
      ],
      "execution_count": null,
      "outputs": [
        {
          "output_type": "execute_result",
          "data": {
            "text/plain": [
              "10.0"
            ]
          },
          "metadata": {},
          "execution_count": 6
        }
      ]
    },
    {
      "cell_type": "code",
      "metadata": {
        "colab": {
          "base_uri": "https://localhost:8080/"
        },
        "id": "qe0xQ18Bq69P",
        "outputId": "f37f863c-cde2-4093-ee87-2a335670fe87"
      },
      "source": [
        "100 > 50"
      ],
      "execution_count": null,
      "outputs": [
        {
          "output_type": "execute_result",
          "data": {
            "text/plain": [
              "True"
            ]
          },
          "metadata": {},
          "execution_count": 7
        }
      ]
    },
    {
      "cell_type": "code",
      "metadata": {
        "colab": {
          "base_uri": "https://localhost:8080/"
        },
        "id": "RmTVSqTGq_ye",
        "outputId": "4b90152f-42e5-4fdd-f8a1-c06da7268a94"
      },
      "source": [
        "50 > 100"
      ],
      "execution_count": null,
      "outputs": [
        {
          "output_type": "execute_result",
          "data": {
            "text/plain": [
              "False"
            ]
          },
          "metadata": {},
          "execution_count": 8
        }
      ]
    },
    {
      "cell_type": "markdown",
      "metadata": {
        "id": "-YpRA9bL44iT"
      },
      "source": [
        "# Condições"
      ]
    },
    {
      "cell_type": "code",
      "metadata": {
        "colab": {
          "base_uri": "https://localhost:8080/"
        },
        "id": "6RZUB71MrKFc",
        "outputId": "d7323ad5-868c-4615-d480-5ab6104b84ff"
      },
      "source": [
        "jan > fev"
      ],
      "execution_count": null,
      "outputs": [
        {
          "output_type": "execute_result",
          "data": {
            "text/plain": [
              "False"
            ]
          },
          "metadata": {},
          "execution_count": 14
        }
      ]
    },
    {
      "cell_type": "code",
      "metadata": {
        "colab": {
          "base_uri": "https://localhost:8080/"
        },
        "id": "ny6MFlBhrOB0",
        "outputId": "56ad797a-7eee-428c-df17-6068568d9a39"
      },
      "source": [
        "fev > mar"
      ],
      "execution_count": null,
      "outputs": [
        {
          "output_type": "execute_result",
          "data": {
            "text/plain": [
              "True"
            ]
          },
          "metadata": {},
          "execution_count": 15
        }
      ]
    },
    {
      "cell_type": "code",
      "metadata": {
        "colab": {
          "base_uri": "https://localhost:8080/"
        },
        "id": "b16SBGL0ri_3",
        "outputId": "7c9a1e8f-7a38-4257-e94b-c32d658bb76c"
      },
      "source": [
        "fev == jan"
      ],
      "execution_count": null,
      "outputs": [
        {
          "output_type": "execute_result",
          "data": {
            "text/plain": [
              "False"
            ]
          },
          "metadata": {},
          "execution_count": 16
        }
      ]
    },
    {
      "cell_type": "code",
      "metadata": {
        "colab": {
          "base_uri": "https://localhost:8080/"
        },
        "id": "cZQcix7lrsTj",
        "outputId": "5d4f7937-853c-4196-9f9f-971eb825faed"
      },
      "source": [
        "fev < mar"
      ],
      "execution_count": null,
      "outputs": [
        {
          "output_type": "execute_result",
          "data": {
            "text/plain": [
              "False"
            ]
          },
          "metadata": {},
          "execution_count": 17
        }
      ]
    },
    {
      "cell_type": "code",
      "metadata": {
        "colab": {
          "base_uri": "https://localhost:8080/"
        },
        "id": "5l_dw3LgruO4",
        "outputId": "ad59923c-778b-404d-dc4a-2503ce655f47"
      },
      "source": [
        "fev <= 120"
      ],
      "execution_count": null,
      "outputs": [
        {
          "output_type": "execute_result",
          "data": {
            "text/plain": [
              "False"
            ]
          },
          "metadata": {},
          "execution_count": 18
        }
      ]
    },
    {
      "cell_type": "code",
      "metadata": {
        "colab": {
          "base_uri": "https://localhost:8080/"
        },
        "id": "KabcYuuFryls",
        "outputId": "c07fd5e1-bd5e-4530-a41d-b5c4e01e9516"
      },
      "source": [
        "fev"
      ],
      "execution_count": null,
      "outputs": [
        {
          "output_type": "execute_result",
          "data": {
            "text/plain": [
              "200"
            ]
          },
          "metadata": {},
          "execution_count": 19
        }
      ]
    },
    {
      "cell_type": "markdown",
      "metadata": {
        "id": "3xX4m9mpsMSP"
      },
      "source": [
        "se fev <= 120, faço nada. se fev > 120, economizar.\n",
        "\n",
        "```\n",
        "se fev <= 120, (condição)\n",
        "  faço nada.  (ação)\n",
        "\n",
        "se fev > 120, (condição)\n",
        "  economizar. (ação)\n",
        "\n",
        "se fev < 150, faço nada, senão se fev = 150, tomar cuidado, senão economizar (fev > 120).\n",
        "```"
      ]
    },
    {
      "cell_type": "code",
      "metadata": {
        "colab": {
          "base_uri": "https://localhost:8080/",
          "height": 35
        },
        "id": "gkkTe87ntfXo",
        "outputId": "6fe900db-9d72-4008-b125-4ce1cca6d46c"
      },
      "source": [
        "\"faço nada\""
      ],
      "execution_count": null,
      "outputs": [
        {
          "output_type": "execute_result",
          "data": {
            "application/vnd.google.colaboratory.intrinsic+json": {
              "type": "string"
            },
            "text/plain": [
              "'faço nada'"
            ]
          },
          "metadata": {},
          "execution_count": 22
        }
      ]
    },
    {
      "cell_type": "code",
      "metadata": {
        "colab": {
          "base_uri": "https://localhost:8080/"
        },
        "id": "bc0yiCmguU_Q",
        "outputId": "d27ed5e1-4b9f-4365-bc5a-dc2a1f5b6ee4"
      },
      "source": [
        "fev <= 120"
      ],
      "execution_count": null,
      "outputs": [
        {
          "output_type": "execute_result",
          "data": {
            "text/plain": [
              "False"
            ]
          },
          "metadata": {},
          "execution_count": 24
        }
      ]
    },
    {
      "cell_type": "code",
      "metadata": {
        "id": "MSqJmwWcr08Q"
      },
      "source": [
        "if fev <= 120: #Falso\n",
        "  print(\"faço nada\")"
      ],
      "execution_count": null,
      "outputs": []
    },
    {
      "cell_type": "code",
      "metadata": {
        "colab": {
          "base_uri": "https://localhost:8080/"
        },
        "id": "QuUaq4yGuTEH",
        "outputId": "711e9405-6dc3-4072-8cae-0631b7532d23"
      },
      "source": [
        "if fev > 120: #Verdadeiro\n",
        "  print(\"economizar\")"
      ],
      "execution_count": null,
      "outputs": [
        {
          "output_type": "stream",
          "name": "stdout",
          "text": [
            "economizar\n"
          ]
        }
      ]
    },
    {
      "cell_type": "markdown",
      "metadata": {
        "id": "0A-seFEjxGXz"
      },
      "source": [
        "programa: gerenciador de gastos  \n",
        "limite: limite de gastos mensal que eu estipulei  \n",
        "mes: mês que eu quero analisar o gasto  \n",
        "resulta: qual a ação que eu devo tomar baseado no meu gasto  "
      ]
    },
    {
      "cell_type": "code",
      "metadata": {
        "colab": {
          "base_uri": "https://localhost:8080/"
        },
        "id": "nDEGSURIuajz",
        "outputId": "860b3eab-67f1-4a81-9300-1746f1c85f65"
      },
      "source": [
        "gerenciador_de_dados.py\n",
        "limite = 150 \n",
        "mes = mar\n",
        "\n",
        "\n",
        "print(mes)\n",
        "\n",
        "if mes < limite:\n",
        "  print(\"faço nada\")\n",
        "elif mes == limite:\n",
        "  print(\"tomar cuidado\")\n",
        "else:\n",
        "  print(\"economizar\")"
      ],
      "execution_count": null,
      "outputs": [
        {
          "output_type": "stream",
          "name": "stdout",
          "text": [
            "150\n",
            "tomar cuidado\n"
          ]
        }
      ]
    },
    {
      "cell_type": "markdown",
      "metadata": {
        "id": "0e3S8T5q4uNU"
      },
      "source": [
        "# Repetição"
      ]
    },
    {
      "cell_type": "markdown",
      "metadata": {
        "id": "Z6Pteh0Z5WsU"
      },
      "source": [
        "para...faça...\n",
        "\n",
        "enquanto\n",
        "\n",
        "enquanto...faça...\n",
        "\n",
        "for -> faça\n",
        "\n",
        "while -> enquanto\n",
        "\n",
        "do while"
      ]
    },
    {
      "cell_type": "markdown",
      "metadata": {
        "id": "sYI04rnR5ZML"
      },
      "source": [
        "```\n",
        "enquanto não for sábado,\n",
        "  (faça) trabalhe.\n",
        "```"
      ]
    },
    {
      "cell_type": "markdown",
      "metadata": {
        "id": "1UolNBiN58yw"
      },
      "source": [
        "```\n",
        "1. segunda\n",
        "2. terça\n",
        "3. quarta\n",
        "4. quinta\n",
        "5. sexta \n",
        "6. sábado \n",
        "7. domingo \n",
        "```"
      ]
    },
    {
      "cell_type": "code",
      "metadata": {
        "colab": {
          "base_uri": "https://localhost:8080/"
        },
        "id": "fWN6CSiE4R-4",
        "outputId": "c4d8d1d1-9ba0-42bf-e362-f5c5db2ae148"
      },
      "source": [
        "#para (dia=1;dia!=6;dia=dia+1) {}\n",
        "dia = 1\n",
        "\n",
        "while dia != 6: #Verdadeiro\n",
        "  print(dia)\n",
        "  print('Trabalhe')\n",
        "  dia = dia + 1 #simular a virada do dia\n",
        "#Falso\n",
        "print(dia)\n",
        "print('Sabadou!')\n",
        "#encerra"
      ],
      "execution_count": null,
      "outputs": [
        {
          "output_type": "stream",
          "name": "stdout",
          "text": [
            "1\n",
            "Trabalhe\n",
            "2\n",
            "Trabalhe\n",
            "3\n",
            "Trabalhe\n",
            "4\n",
            "Trabalhe\n",
            "5\n",
            "Trabalhe\n",
            "6\n",
            "Sabadou!\n"
          ]
        }
      ]
    },
    {
      "cell_type": "markdown",
      "metadata": {
        "id": "SD0ANyRO7dkh"
      },
      "source": [
        "```\n",
        "tabuada do 5\n",
        "para cada número começando em 0 até 9,\n",
        "  faça 5 * número.\n",
        "```"
      ]
    },
    {
      "cell_type": "code",
      "metadata": {
        "colab": {
          "base_uri": "https://localhost:8080/"
        },
        "id": "J5jpY4DT8cxk",
        "outputId": "2dc3af6e-2e45-425e-fd60-7aa957141efd"
      },
      "source": [
        "list(range(0, 10))"
      ],
      "execution_count": null,
      "outputs": [
        {
          "output_type": "execute_result",
          "data": {
            "text/plain": [
              "[0, 1, 2, 3, 4, 5, 6, 7, 8, 9]"
            ]
          },
          "metadata": {},
          "execution_count": 63
        }
      ]
    },
    {
      "cell_type": "code",
      "metadata": {
        "id": "-kPcf-yX8sBe"
      },
      "source": [
        "# para (contador=0; contador<=10; contador = contador+1)\n",
        "contador = 0\n",
        "while contador <= 10:\n",
        "  contador = contado+1"
      ],
      "execution_count": null,
      "outputs": []
    },
    {
      "cell_type": "code",
      "metadata": {
        "colab": {
          "base_uri": "https://localhost:8080/"
        },
        "id": "9uNABTtK4Rwn",
        "outputId": "0a27ff68-7614-48d3-e8f6-55c17cffdef0"
      },
      "source": [
        "tabuada = 5\n",
        "for numero in range(0, 10):#sim\n",
        "  print(tabuada, \"x\", numero)\n",
        "  print(tabuada*numero)\n",
        "#ainda tem?\n",
        "#não\n",
        "print('acabou')"
      ],
      "execution_count": null,
      "outputs": [
        {
          "output_type": "stream",
          "name": "stdout",
          "text": [
            "5 x 0\n",
            "0\n",
            "5 x 1\n",
            "5\n",
            "5 x 2\n",
            "10\n",
            "5 x 3\n",
            "15\n",
            "5 x 4\n",
            "20\n",
            "5 x 5\n",
            "25\n",
            "5 x 6\n",
            "30\n",
            "5 x 7\n",
            "35\n",
            "5 x 8\n",
            "40\n",
            "5 x 9\n",
            "45\n",
            "acabou\n"
          ]
        }
      ]
    },
    {
      "cell_type": "code",
      "metadata": {
        "id": "toNFYa2d9Lf_"
      },
      "source": [
        ""
      ],
      "execution_count": null,
      "outputs": []
    }
  ]
}